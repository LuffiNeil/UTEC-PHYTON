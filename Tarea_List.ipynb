{
  "nbformat": 4,
  "nbformat_minor": 0,
  "metadata": {
    "colab": {
      "provenance": [],
      "authorship_tag": "ABX9TyN5L1FGM7F/Issu/rgnjXiJ",
      "include_colab_link": true
    },
    "kernelspec": {
      "name": "python3",
      "display_name": "Python 3"
    },
    "language_info": {
      "name": "python"
    }
  },
  "cells": [
    {
      "cell_type": "markdown",
      "metadata": {
        "id": "view-in-github",
        "colab_type": "text"
      },
      "source": [
        "<a href=\"https://colab.research.google.com/github/LuffiNeil/UTEC-PHYTON/blob/main/Tarea_List.ipynb\" target=\"_parent\"><img src=\"https://colab.research.google.com/assets/colab-badge.svg\" alt=\"Open In Colab\"/></a>"
      ]
    },
    {
      "cell_type": "code",
      "execution_count": null,
      "metadata": {
        "id": "zbWVxDAj3TCL"
      },
      "outputs": [],
      "source": [
        "class alumno :\n",
        "  age = 0\n",
        "  career = \"\"\n",
        "  name = \"\"\n",
        "\n",
        "# Create a list to store alumno instances\n",
        "alumnos = []\n",
        "\n",
        "#Define la cantidad de alumnos a registrar\n",
        "def AlumnosCount ():\n",
        "  x = 0\n",
        "  print('Cuantos alumnos quieres registrar?')\n",
        "  count = input('ingresa la cantidad de alumnos ')\n",
        "  count = check_input(count)\n",
        "  CreateAlumn(count,0)\n",
        "\n",
        "#Revisa si el valor ingresador es un numero\n",
        "def check_input (value):\n",
        "  try:\n",
        "    int(value)\n",
        "    return value\n",
        "  except ValueError:\n",
        "    print('El valor ingresado no era un numero, ingrese un numero')\n",
        "    value = input('ingresa un numero')\n",
        "    check_input(value)\n",
        "  return value\n",
        "\n",
        "#Loop para registrar la cantidad de alumnos ingresada\n",
        "def CreateAlumn(count,y):\n",
        "  while y != int(count):\n",
        "    new_alumno = alumno()\n",
        "    new_alumno.name = input('Ingresa el nombre del alumno ')\n",
        "    new_alumno.career = input('Ingresa la carrera del alumno ')\n",
        "    new_alumno.age = check_input(input('Ingresa la edad del alumno '))\n",
        "    alumnos.append(new_alumno)\n",
        "    y += 1\n",
        "\n",
        "\n",
        "\n",
        "AlumnosCount()\n",
        "\n",
        "for x in alumnos:\n",
        "  print(x.name, x.career, x.age)"
      ]
    },
    {
      "cell_type": "code",
      "source": [
        "from types import coroutine\n",
        "countries = []\n",
        "global count\n",
        "\n",
        "\n",
        "\n",
        "def Addcountries ():\n",
        "  x = 0\n",
        "  print('Cuantos paises quieres vivistar?')\n",
        "  count = input('ingresa la cantidad de paises por visitar ')\n",
        "  count = check_input(count)\n",
        "  type_countries(count,0)\n",
        "\n",
        "def check_input (value):\n",
        "  try:\n",
        "    int(value)\n",
        "    return value\n",
        "  except ValueError:\n",
        "    print('El valor ingresado no era un numero, ingrese un numero')\n",
        "    value = input('ingresa la cantidad de paises por visitar ')\n",
        "    check_input(value)\n",
        "  return value\n",
        "\n",
        "def type_countries(y,x):\n",
        "   while x != int(y):\n",
        "    print('Ingrese el nombre del pais a visitar')\n",
        "    county_name = input('Ingresa el nombre del pais ')\n",
        "    countries.append(county_name)\n",
        "    x += 1\n",
        "\n",
        "Addcountries()\n",
        "print(countries)\n",
        "print(sorted(countries))\n",
        "print(countries)\n",
        "countries.reverse()\n",
        "print(countries)\n",
        "countries.reverse()\n",
        "print(countries)\n",
        "countries.sort()\n",
        "print(countries)\n",
        "countries.sort(reverse=True)\n",
        "print(countries)"
      ],
      "metadata": {
        "id": "_WYbAmqJ4Qak"
      },
      "execution_count": null,
      "outputs": []
    }
  ]
}