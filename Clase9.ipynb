{
  "nbformat": 4,
  "nbformat_minor": 0,
  "metadata": {
    "colab": {
      "provenance": [],
      "authorship_tag": "ABX9TyNW2OJTAs6g1X6RXt2dvI7d",
      "include_colab_link": true
    },
    "kernelspec": {
      "name": "python3",
      "display_name": "Python 3"
    },
    "language_info": {
      "name": "python"
    }
  },
  "cells": [
    {
      "cell_type": "markdown",
      "metadata": {
        "id": "view-in-github",
        "colab_type": "text"
      },
      "source": [
        "<a href=\"https://colab.research.google.com/github/LuffiNeil/UTEC-PHYTON/blob/main/Clase9.ipynb\" target=\"_parent\"><img src=\"https://colab.research.google.com/assets/colab-badge.svg\" alt=\"Open In Colab\"/></a>"
      ]
    },
    {
      "cell_type": "code",
      "execution_count": null,
      "metadata": {
        "id": "Vhz_xGmd6pZA",
        "outputId": "9c0ea084-7d7d-4ab2-b2c2-02535aae392c",
        "colab": {
          "base_uri": "https://localhost:8080/"
        }
      },
      "outputs": [
        {
          "output_type": "stream",
          "name": "stdout",
          "text": [
            "    ID  EDAD  INGRESOS RIESGO  LINEA_TC\n",
            "0  123    36      1348      A     49924\n",
            "1  234    52      9479      A     28454\n",
            "2  345    60      7511      B     14250\n",
            "3  456    40      7992      C     32064\n",
            "4  567    58      2675      C      1485\n",
            "5  678    47      7086      D     29157\n",
            "6  789    31      4704      E     14945\n",
            "7  999    42      6245      E      8798\n"
          ]
        }
      ],
      "source": [
        "import pandas as pd\n",
        "\n",
        "\n",
        "df = pd.read_csv(\"/content/clientes.csv\", sep =';')\n",
        "\n",
        "print(df)"
      ]
    },
    {
      "cell_type": "code",
      "source": [
        "print(df.EDAD[0])"
      ],
      "metadata": {
        "id": "-RBqZgkuDVDI",
        "outputId": "62d4b6ed-ed14-4e10-e10c-0cc239388a90",
        "colab": {
          "base_uri": "https://localhost:8080/"
        }
      },
      "execution_count": null,
      "outputs": [
        {
          "output_type": "stream",
          "name": "stdout",
          "text": [
            "36\n"
          ]
        }
      ]
    },
    {
      "cell_type": "code",
      "source": [
        "name = \"Ithan\"\n",
        "last_name = \"Salas\"\n",
        "career = \"Game Developer_Programer\"\n",
        "age = 27\n",
        "current_job = \"Innova Medic\"\n",
        "year_experience = 2"
      ],
      "metadata": {
        "id": "pJYLWMZ4F-5I"
      },
      "execution_count": 6,
      "outputs": []
    },
    {
      "cell_type": "code",
      "source": [
        "personal_information = [name,last_name,career,age,current_job,year_experience]"
      ],
      "metadata": {
        "id": "9nKCmq4ZHAyd"
      },
      "execution_count": 11,
      "outputs": []
    },
    {
      "cell_type": "code",
      "source": [
        "print(f'Hola, me llamo {personal_information[0]} {personal_information[1]} soy {personal_information[2]}, tengo {personal_information[3]} años, trabajo en la empresa {personal_information[4]} y tengo {personal_information[5]} años de experiencia profesional.')"
      ],
      "metadata": {
        "id": "kt-H3EFDOduy",
        "outputId": "06469ea1-97f8-4ea9-d1cc-9fd26adedf54",
        "colab": {
          "base_uri": "https://localhost:8080/"
        }
      },
      "execution_count": 12,
      "outputs": [
        {
          "output_type": "stream",
          "name": "stdout",
          "text": [
            "Hola, me llamo Ithan Salas soy Game Developer_Programer, tengo 27 años, trabajo en la empresa Innova Medic y tengo 2 años de experiencia profesional.\n"
          ]
        }
      ]
    },
    {
      "cell_type": "code",
      "source": [
        "places_to_travel = ['Japan','Canada','USA','Australia','Suecia']\n",
        "\n",
        "print(f'El tercer lugar favorito para yo visitar en estas vacaciones seria {places_to_travel[2]}')"
      ],
      "metadata": {
        "id": "O2f61h9-ITy-",
        "outputId": "cdfc7b90-e486-4189-c8c8-60aa38c10e41",
        "colab": {
          "base_uri": "https://localhost:8080/"
        }
      },
      "execution_count": 10,
      "outputs": [
        {
          "output_type": "stream",
          "name": "stdout",
          "text": [
            "El tercer lugar favorito para yo visitar en estas vacaciones seria USA\n"
          ]
        }
      ]
    },
    {
      "cell_type": "code",
      "source": [
        "print (personal_information)\n",
        "\n",
        "personal_information[4] = \"Bamtang\"\n",
        "\n",
        "print(personal_information)"
      ],
      "metadata": {
        "id": "qeTo6K-XULqY",
        "outputId": "7eccefaa-e489-445f-98ee-68768e8b708a",
        "colab": {
          "base_uri": "https://localhost:8080/"
        }
      },
      "execution_count": 14,
      "outputs": [
        {
          "output_type": "stream",
          "name": "stdout",
          "text": [
            "['Ithan', 'Salas', 'Game Developer_Programer', 27, 'Innova Medic', 2]\n",
            "['Ithan', 'Salas', 'Game Developer_Programer', 27, 'Bamtang', 2]\n"
          ]
        }
      ]
    },
    {
      "cell_type": "code",
      "source": [
        "personal_information[5] = \"Innova Medic\""
      ],
      "metadata": {
        "id": "Ws92R7xjYeVn"
      },
      "execution_count": 17,
      "outputs": []
    },
    {
      "cell_type": "code",
      "source": [
        "personal_information.insert(3,\"TLS (Toulouse Lautrec)\")"
      ],
      "metadata": {
        "id": "arjfloGsXizf"
      },
      "execution_count": 15,
      "outputs": []
    },
    {
      "cell_type": "code",
      "source": [
        "print(f'Hola, me llamo {personal_information[0]} {personal_information[1]} soy {personal_information[2]}, estudié en la institución {personal_information[3]}, tengo {personal_information[4]} años, trabajo en la empresa {personal_information[5]} y tengo {personal_information[6]} años de experiencia profesional.')"
      ],
      "metadata": {
        "id": "0xa4u_phYQAW",
        "outputId": "32fb2846-be97-4f5d-c684-644916bd0415",
        "colab": {
          "base_uri": "https://localhost:8080/"
        }
      },
      "execution_count": 18,
      "outputs": [
        {
          "output_type": "stream",
          "name": "stdout",
          "text": [
            "Hola, me llamo Ithan Salas soy Game Developer_Programer, estudié en la institución TLS (Toulouse Lautrec), tengo 27 años, trabajo en la empresa Innova Medic y tengo 2 años de experiencia profesional.\n"
          ]
        }
      ]
    }
  ]
}