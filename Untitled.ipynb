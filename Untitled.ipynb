{
  "nbformat": 4,
  "nbformat_minor": 0,
  "metadata": {
    "colab": {
      "provenance": [],
      "authorship_tag": "ABX9TyNejMvzDRVxSjm9VXZp3WNO",
      "include_colab_link": true
    },
    "kernelspec": {
      "name": "python3",
      "display_name": "Python 3"
    },
    "language_info": {
      "name": "python"
    }
  },
  "cells": [
    {
      "cell_type": "markdown",
      "metadata": {
        "id": "view-in-github",
        "colab_type": "text"
      },
      "source": [
        "<a href=\"https://colab.research.google.com/github/LuffiNeil/UTEC-PHYTON/blob/main/Untitled.ipynb\" target=\"_parent\"><img src=\"https://colab.research.google.com/assets/colab-badge.svg\" alt=\"Open In Colab\"/></a>"
      ]
    },
    {
      "cell_type": "code",
      "execution_count": null,
      "metadata": {
        "id": "TYfLa6Z19692",
        "colab": {
          "base_uri": "https://localhost:8080/"
        },
        "outputId": "db38ca55-bb13-411e-bf09-963bfed22a4f"
      },
      "outputs": [
        {
          "output_type": "stream",
          "name": "stdout",
          "text": [
            "12.5\n",
            "25\n"
          ]
        }
      ],
      "source": [
        "x = 10\n",
        "y = 2.5\n",
        "\n",
        "def summ():\n",
        "    value = 0\n",
        "    value = x + y\n",
        "\n",
        "    print(value)\n",
        "    return\n",
        "\n",
        "\n",
        "summ()\n",
        "\n",
        "class alumno :\n",
        "  age = 0\n",
        "  career = \"\"\n",
        "  name = \"\"\n",
        "\n",
        "# Create a list to store alumno instances\n",
        "alumnos = []\n",
        "\n",
        "def CreateAlumn():\n",
        "  # Create instances of the alumno class and append them to the list\n",
        "  ithan = alumno()\n",
        "  ithan.name = \"ithan\"\n",
        "  ithan.age = 27\n",
        "  ithan.career = \"Game Programmer\"\n",
        "  alumnos.append(ithan)\n",
        "\n",
        "  henson = alumno()\n",
        "  henson.name = \"Henson\"\n",
        "  henson.age = 25\n",
        "  henson.career = \"Game Desing\"\n",
        "  alumnos.append(henson)\n",
        "\n",
        "  xiomara = alumno()\n",
        "  xiomara.name = \"Xiomara\"\n",
        "  xiomara.age = 24\n",
        "  xiomara.career = \"comunicadora\"\n",
        "  alumnos.append(xiomara)\n",
        "\n",
        "\n",
        "CreateAlumn()\n",
        "\n",
        "# Access the instances using list indexing\n",
        "print(alumnos[1].age)"
      ]
    },
    {
      "cell_type": "markdown",
      "source": [],
      "metadata": {
        "id": "qwqnti7sC_IV"
      }
    },
    {
      "cell_type": "markdown",
      "source": [],
      "metadata": {
        "id": "tlvLLd819-be"
      }
    },
    {
      "cell_type": "code",
      "source": [],
      "metadata": {
        "id": "aGmAv8kGC5dg"
      },
      "execution_count": null,
      "outputs": []
    }
  ]
}