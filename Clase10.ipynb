{
  "nbformat": 4,
  "nbformat_minor": 0,
  "metadata": {
    "colab": {
      "provenance": [],
      "authorship_tag": "ABX9TyPGKJt/d1ZMK3RbOJx3/3vP",
      "include_colab_link": true
    },
    "kernelspec": {
      "name": "python3",
      "display_name": "Python 3"
    },
    "language_info": {
      "name": "python"
    }
  },
  "cells": [
    {
      "cell_type": "markdown",
      "metadata": {
        "id": "view-in-github",
        "colab_type": "text"
      },
      "source": [
        "<a href=\"https://colab.research.google.com/github/LuffiNeil/UTEC-PHYTON/blob/main/Clase10.ipynb\" target=\"_parent\"><img src=\"https://colab.research.google.com/assets/colab-badge.svg\" alt=\"Open In Colab\"/></a>"
      ]
    },
    {
      "cell_type": "code",
      "execution_count": 3,
      "metadata": {
        "id": "gidCSNPpSOXg",
        "outputId": "cd0c2e93-d3a7-4a70-afe1-939413cc269e",
        "colab": {
          "base_uri": "https://localhost:8080/"
        }
      },
      "outputs": [
        {
          "output_type": "stream",
          "name": "stdout",
          "text": [
            "[4, 16, 36, 64, 100]\n"
          ]
        }
      ],
      "source": [
        "cuadrados = []\n",
        "pares = [2, 4, 6, 8, 10]\n",
        "\n",
        "for par in pares:\n",
        "  cuadrado = par**2\n",
        "  cuadrados.append(cuadrado)\n",
        "\n",
        "print(cuadrados)"
      ]
    },
    {
      "cell_type": "code",
      "source": [
        "cuadrados2= [par**2 for par in pares]\n",
        "\n",
        "print(cuadrados2)"
      ],
      "metadata": {
        "id": "px1rnMFyDBDZ",
        "outputId": "8bc28d87-dbb3-419c-9c2e-4377f5d531bc",
        "colab": {
          "base_uri": "https://localhost:8080/"
        }
      },
      "execution_count": 4,
      "outputs": [
        {
          "output_type": "stream",
          "name": "stdout",
          "text": [
            "[4, 16, 36, 64, 100]\n"
          ]
        }
      ]
    }
  ]
}